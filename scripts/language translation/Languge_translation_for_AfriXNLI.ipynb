{
  "cells": [
    {
      "cell_type": "markdown",
      "metadata": {
        "id": "view-in-github",
        "colab_type": "text"
      },
      "source": [
        "<a href=\"https://colab.research.google.com/github/daKeshra/Extending-AfriXNLI/blob/main/Languge_translation_for_AfriXNLI.ipynb\" target=\"_parent\"><img src=\"https://colab.research.google.com/assets/colab-badge.svg\" alt=\"Open In Colab\"/></a>"
      ]
    },
    {
      "cell_type": "code",
      "execution_count": null,
      "metadata": {
        "id": "AZHzrd56XxY0"
      },
      "outputs": [],
      "source": [
        "!pip install -U transformers"
      ]
    },
    {
      "cell_type": "markdown",
      "metadata": {
        "id": "5gnBRxR3XxY5"
      },
      "source": [
        "## Local Inference on GPU\n",
        "Model page: https://huggingface.co/facebook/nllb-200-distilled-1.3B\n",
        "\n",
        "⚠️ If the generated code snippets do not work, please open an issue on either the [model repo](https://huggingface.co/facebook/nllb-200-distilled-1.3B)\n",
        "\t\t\tand/or on [huggingface.js](https://github.com/huggingface/huggingface.js/blob/main/packages/tasks/src/model-libraries-snippets.ts) 🙏"
      ]
    },
    {
      "cell_type": "code",
      "execution_count": null,
      "metadata": {
        "id": "IoJQGk6sbFKx"
      },
      "outputs": [],
      "source": [
        "!pip install transformers sentencepiece sacremoses\n",
        "!pip install torch"
      ]
    },
    {
      "cell_type": "code",
      "execution_count": null,
      "metadata": {
        "id": "CjFPy8saXxY9"
      },
      "outputs": [],
      "source": [
        "# Use a pipeline as a high-level helper\n",
        "from transformers import pipeline\n",
        "\n",
        "pipe = pipeline(\"translation\", model=\"facebook/nllb-200-distilled-1.3B\")"
      ]
    },
    {
      "cell_type": "code",
      "execution_count": null,
      "metadata": {
        "id": "rPBRUTg-uzMf"
      },
      "outputs": [],
      "source": [
        "import pandas as pd\n",
        "from transformers import AutoModelForSeq2SeqLM, AutoTokenizer\n",
        "import torch\n",
        "from tqdm import tqdm\n",
        "import os\n",
        "\n",
        "model_name = \"facebook/nllb-200-distilled-600M\"\n",
        "src_lang = \"eng_Latn\"\n",
        "tgt_lang = \"hau_Latn\"\n",
        "\n",
        "dev_file = \"https://raw.githubusercontent.com/Tonative-Research/Extending-AfriXNLI/refs/heads/main/dev/xnli.dev%20-%20eng_dataset.csv\"\n",
        "test_file = \"https://raw.githubusercontent.com/Tonative-Research/Extending-AfriXNLI/refs/heads/main/test/xnli.test%20-%20english.csv\"\n",
        "\n",
        "os.mkdir('dev')\n",
        "sentence1_dev= '/dev/sentence1_translated.csv'\n",
        "sentence2_dev= '/dev/sentence2_translated.csv'\n",
        "\n",
        "os.mkdir('test')\n",
        "sentence1_test= '/test/sentence1_translated.csv'\n",
        "sentence2_test= '/test/sentence2_translated.csv'"
      ]
    },
    {
      "cell_type": "code",
      "execution_count": null,
      "metadata": {
        "id": "l2n-2cqAXxY-"
      },
      "outputs": [],
      "source": [
        "df = pd.read_csv(dev_file, sep=\",\")\n",
        "df.head()"
      ]
    },
    {
      "cell_type": "markdown",
      "metadata": {
        "id": "w5BT7MNiv6Mn"
      },
      "source": [
        "Load model"
      ]
    },
    {
      "cell_type": "code",
      "execution_count": null,
      "metadata": {
        "id": "lwKE9BMQwZjB"
      },
      "outputs": [],
      "source": [
        "torch.cuda.is_available()"
      ]
    },
    {
      "cell_type": "code",
      "execution_count": null,
      "metadata": {
        "id": "sEI_qlr8vvCj"
      },
      "outputs": [],
      "source": [
        "print(\"Loading model...\")\n",
        "tokenizer = AutoTokenizer.from_pretrained(model_name, src_lang=src_lang)\n",
        "\n",
        "model = AutoModelForSeq2SeqLM.from_pretrained(model_name)\n",
        "device = \"cuda\" if torch.cuda.is_available() else \"cpu\"\n",
        "model = model.to(device)\n"
      ]
    },
    {
      "cell_type": "code",
      "execution_count": null,
      "metadata": {
        "id": "IvY5Rpycvyp-"
      },
      "outputs": [],
      "source": [
        "def translate_batch(texts, batch_size=8):\n",
        "    translations = []\n",
        "    for i in tqdm(range(0, len(texts), batch_size), desc=\"Translating\"):\n",
        "        batch = [str(t) if pd.notna(t) else \"\" for t in texts[i:i+batch_size]]\n",
        "        inputs = tokenizer(batch, return_tensors=\"pt\", padding=True, truncation=True, max_length=512).to(device)\n",
        "        translated_tokens = model.generate(\n",
        "            **inputs,\n",
        "            forced_bos_token_id=tokenizer._convert_token_to_id_with_added_voc(tgt_lang),\n",
        "            max_length=512\n",
        "        )\n",
        "        batch_translations = tokenizer.batch_decode(translated_tokens, skip_special_tokens=True)\n",
        "        translations.extend(batch_translations)\n",
        "    return translations"
      ]
    },
    {
      "cell_type": "code",
      "execution_count": null,
      "metadata": {
        "id": "USPNrCTfv3et"
      },
      "outputs": [],
      "source": [
        "def process_file(input_path, output_path1, output_path2):\n",
        "    print(f\"Processing {input_path}...\")\n",
        "    df = pd.read_csv(input_path, sep=\",\")\n",
        "\n",
        "    sentence1_translated_df = pd.DataFrame()\n",
        "    sentence2_translated_df = pd.DataFrame()\n",
        "\n",
        "    sentence1_translated_df[['promptID', 'sentence1']] = df[['promptID', 'sentence1']]\n",
        "    sentence2_translated_df[['promptID', 'sentence2']] = df[['promptID', 'sentence2']]\n",
        "\n",
        "\n",
        "\n",
        "    print(\"Translating sentence...\")\n",
        "    sentence1_translated_df[\"sentence1_translated\"] = translate_batch(df[\"sentence1\"].tolist(), batch_size=8)\n",
        "    sentence2_translated_df[\"sentence2_translated\"] = translate_batch(df[\"sentence2\"].tolist(), batch_size=8)\n",
        "\n",
        "    #sentences\n",
        "    sentence1_translated_df = sentence1_translated_df[[\"promptID\", \"sentence1\", \"sentence1_translated\"]]\n",
        "    sentence2_translated_df = sentence2_translated_df[[\"promptID\", \"sentence2\", \"sentence2_translated\"]]\n",
        "\n",
        "\n",
        "    #duplicates\n",
        "    sentence1_translated_df = sentence1_translated_df.drop_duplicates()\n",
        "    sentence2_translated_df = sentence2_translated_df.drop_duplicates()\n",
        "\n",
        "    #save\n",
        "    sentence1_translated_df.to_csv(output_path1, index=False)\n",
        "    sentence2_translated_df.to_csv(output_path2, index=False)\n",
        "\n",
        "    print(f\"Saved translated file {output_path1} and {output_path2}\")"
      ]
    },
    {
      "cell_type": "code",
      "execution_count": null,
      "metadata": {
        "id": "hqdCLAtSzfum"
      },
      "outputs": [],
      "source": [
        "process_file(dev_file, sentence1_dev, sentence2_dev)"
      ]
    },
    {
      "cell_type": "code",
      "execution_count": null,
      "metadata": {
        "id": "SSq1Oky7zkS1"
      },
      "outputs": [],
      "source": [
        "process_file(test_file, sentence1_test, sentence2_test)"
      ]
    }
  ],
  "metadata": {
    "accelerator": "GPU",
    "colab": {
      "gpuType": "T4",
      "machine_shape": "hm",
      "provenance": [],
      "include_colab_link": true
    },
    "kaggle": {
      "accelerator": "gpu"
    },
    "kernelspec": {
      "display_name": "Python 3",
      "name": "python3"
    },
    "language_info": {
      "name": "python"
    }
  },
  "nbformat": 4,
  "nbformat_minor": 0
}